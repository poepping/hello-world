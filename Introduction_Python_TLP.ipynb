{
  "cells": [
    {
      "cell_type": "markdown",
      "metadata": {
        "id": "view-in-github",
        "colab_type": "text"
      },
      "source": [
        "<a href=\"https://colab.research.google.com/github/poepping/hello-world/blob/main/Introduction_Python_TLP.ipynb\" target=\"_parent\"><img src=\"https://colab.research.google.com/assets/colab-badge.svg\" alt=\"Open In Colab\"/></a>"
      ]
    },
    {
      "cell_type": "markdown",
      "metadata": {
        "id": "z4Y_hI6NDpiW"
      },
      "source": [
        "**Workshop Title: Introduction to Python Programming for Data Science**\n",
        "\n",
        "**Duration: 3 hours**\n",
        "\n",
        "**Objective**: To introduce beginners to the Python programming language with a focus on its applications in data science.\n",
        "\n",
        "**Prerequisites**: No prior programming experience required.\n",
        "\n",
        "---\n",
        "\n",
        "### I. Introduction (15 minutes)\n",
        "**Key Concepts**: Python, Jupyter Notebook\n",
        "\n",
        "- Brief Introduction to the Workshop Topics\n",
        "- Importance and Applications of Python in Data Science\n",
        "- Introduction to Python\n",
        "- Why Python for Data Science\n",
        "- Setting up the Python Environment: Jupyter Notebook\n",
        "\n",
        "---\n",
        "\n",
        "### II. Python Basics (30 minutes)\n",
        "\n",
        "**Key Concepts**: Variables, Data types, Arithmetic operations, String operations\n",
        "\n",
        "- Introduction to Python Syntax\n",
        "- Variables and Data Types in Python\n",
        "- Basic Arithmetic Operations\n",
        "- String Operations\n",
        "\n",
        "---\n",
        "\n",
        "### III. Control Structures in Python (30 minutes)\n",
        "\n",
        "**Key Concepts**: Conditional statements, Loops\n",
        "\n",
        "- Introduction to Control Structures\n",
        "- Conditional Statements: if, elif, else\n",
        "- Loops: for and while\n",
        "\n",
        "---\n",
        "\n",
        "### IV. Functions in Python (30 minutes)\n",
        "\n",
        "**Key Concepts**: Function definition, Built-in functions\n",
        "\n",
        "- Introduction to Functions in Python\n",
        "- Defining and Calling Functions\n",
        "- Basic Built-in Functions\n",
        "\n",
        "---\n",
        "\n",
        "### V. Python Data Structures (30 minutes)\n",
        "\n",
        "**Key Concepts**: Lists, Tuples, Dictionaries\n",
        "\n",
        "- Introduction to Python Data Structures\n",
        "- Lists: Creation, Access, Modification\n",
        "- Tuples: Creation, Access\n",
        "- Dictionaries: Creation, Access, Modification\n",
        "\n",
        "---\n",
        "\n",
        "### VI. Introduction to Libraries (15 minutes)\n",
        "\n",
        "**Key Concepts**: Importing libraries, Math, Random, Datetime\n",
        "\n",
        "- Introduction to Python Libraries\n",
        "- Importing Libraries\n",
        "- Math, Random, and Datetime Libraries\n",
        "\n",
        "---\n",
        "\n",
        "### VII. Introduction to NumPy and pandas (30 minutes)\n",
        "\n",
        "**Key Concepts**: NumPy arrays, pandas DataFrames\n",
        "\n",
        "- Introduction to NumPy and pandas\n",
        "- Creating and Manipulating NumPy Arrays\n",
        "- Creating and Manipulating pandas DataFrames\n",
        "\n",
        "---\n",
        "\n",
        "### VIII. Conclusion and Next Steps (15 minutes)\n",
        "\n",
        "- Recap of the Workshop\n",
        "- Overview of More Advanced Python Topics\n",
        "- Resources for Further Learning\n",
        "- Q&A and Closing Remarks"
      ]
    },
    {
      "cell_type": "markdown",
      "metadata": {
        "id": "yFRNxwC1Dpic"
      },
      "source": [
        "# Section 2: Python Basics"
      ]
    },
    {
      "cell_type": "markdown",
      "metadata": {
        "id": "KMY33tNoDpid"
      },
      "source": [
        "## Data Types\n",
        "\n",
        "In this part, we learn how to create variables in Python and assign values to them. Variables can be of various types, like **integer**, **float**, **string**, and **boolean**. We use the `print()` function to display the value of a variable and the `type()` function to determine its data type."
      ]
    },
    {
      "cell_type": "code",
      "execution_count": 17,
      "metadata": {
        "id": "b2Tah_byDpid",
        "colab": {
          "base_uri": "https://localhost:8080/"
        },
        "outputId": "617ba250-a0c8-41c8-bb29-34834877bee5"
      },
      "outputs": [
        {
          "output_type": "stream",
          "name": "stdout",
          "text": [
            "10 5 2.0 <class 'int'> <class 'int'> <class 'float'>\n",
            "3.14 <class 'float'>\n",
            "Hello python! <class 'str'>\n",
            "True False <class 'bool'>\n"
          ]
        }
      ],
      "source": [
        "# Integer\n",
        "x = 10\n",
        "y= 5\n",
        "print(x, y, x/y, type(x), type(y), type(x/y))\n",
        "\n",
        "# Float\n",
        "p = 3.14\n",
        "print(p, type(p))\n",
        "\n",
        "# String\n",
        "s=\"Hello python!\"\n",
        "print(s, type(s))\n",
        "\n",
        "# Boolean\n",
        "bt = True\n",
        "bf = False\n",
        "print(bt, bf, type(bt))"
      ]
    },
    {
      "cell_type": "markdown",
      "metadata": {
        "id": "WsC4EcP-Dpie"
      },
      "source": [
        "## Basic Arithmetic Operations\n",
        "\n",
        "Next, we cover the basic arithmetic operations that you can perform in Python. This includes **addition (`+`), subtraction (`-`), multiplication (`*`), division (`/`), modulus (`%`), and exponentiation (`**`)**. These operations work as you'd expect from your mathematics classes."
      ]
    },
    {
      "cell_type": "code",
      "execution_count": 30,
      "metadata": {
        "id": "VrXMPr4tDpif",
        "colab": {
          "base_uri": "https://localhost:8080/"
        },
        "outputId": "50f38486-0b89-4163-8606-9a00cea54dbc"
      },
      "outputs": [
        {
          "output_type": "stream",
          "name": "stdout",
          "text": [
            "8\n",
            "15\n",
            "3\n",
            "5\n",
            "28 <class 'int'>\n",
            "28.0 <class 'float'>\n",
            "50 <class 'int'>\n",
            "3.142857142857143 <class 'float'>\n",
            "1\n",
            "49\n"
          ]
        }
      ],
      "source": [
        "# Addition\n",
        "sum = 5+3; print(sum)\n",
        "sumxy = x + y; print(sumxy)\n",
        "\n",
        "# Subtraction\n",
        "difference = 10-7; print(difference)\n",
        "diffxy = x - y; print(diffxy)\n",
        "\n",
        "# Multiplication\n",
        "product = 4 * 7; print(product, type(product))\n",
        "product = 4 * 7.0; print(product, type(product))\n",
        "product = x * y; print(product, type(product))\n",
        "\n",
        "# Division\n",
        "quotient = 22/7; print(quotient, type(quotient))\n",
        "\n",
        "# Modulus\n",
        "remainder = 10 % 3; print(remainder)\n",
        "\n",
        "# Exponentiation\n",
        "square = 7**2; print(square)"
      ]
    },
    {
      "cell_type": "markdown",
      "metadata": {
        "id": "tBZ8BjRjDpig"
      },
      "source": [
        "## Basic string operations\n",
        "\n",
        "Finally, we explore several operations that can be performed on strings, which are sequences of characters. We see how to concatenate (join) strings using the `+` operator, repeat strings using the `*` operator, and access specific characters in a string via indexing (e.g., `s[0]`). We also learn how to get a substring from a string using slicing (e.g., `s[1:4]`), and determine the length of a string using the `len()` function."
      ]
    },
    {
      "cell_type": "code",
      "execution_count": 63,
      "metadata": {
        "id": "aQu0eLu3Dpig",
        "colab": {
          "base_uri": "https://localhost:8080/"
        },
        "outputId": "fd86c697-547a-455d-f740-bc51da1be5c2"
      },
      "outputs": [
        {
          "output_type": "stream",
          "name": "stdout",
          "text": [
            "Hello Python\n",
            "HelloPython\n",
            "HaHaHaHaHa\n",
            "HelloPython H P\n",
            "Python\n",
            "HP\n",
            "11\n"
          ]
        }
      ],
      "source": [
        "# String Concatenation\n",
        "greeting = \"Hello\" + \" \" + \"Python\"; print(greeting)\n",
        "greeting = \"Hello\" + \"Python\"; print(greeting)\n",
        "\n",
        "# String Repetition\n",
        "laugh = \"Ha\"*5; print(laugh)\n",
        "\n",
        "# String Indexing\n",
        "first_letter = greeting[0]; fifth_letter = greeting[5]; print(greeting, first_letter, fifth_letter)\n",
        "\n",
        "# String Slicing\n",
        "python = greeting[5:11]; print(python)\n",
        "hp = greeting[0]+greeting[5]; print(hp)\n",
        "\n",
        "# String Length\n",
        "slength = len(greeting); print(slength)"
      ]
    },
    {
      "cell_type": "markdown",
      "metadata": {
        "id": "tOj053gRDpih"
      },
      "source": [
        "This section forms the foundation of Python programming. As you proceed with the workshop, you'll find that these concepts are integral to understanding and writing Python code, whether it's for simple tasks or complex data science projects."
      ]
    },
    {
      "cell_type": "markdown",
      "metadata": {
        "id": "Ft_5loKsDpih"
      },
      "source": [
        "# Section 3: Control Structures"
      ]
    },
    {
      "cell_type": "markdown",
      "metadata": {
        "id": "dbpfXQj4Dpih"
      },
      "source": [
        "## Conditional Statement:\n",
        "\n",
        "This part introduces conditional statements in Python, which allow us to execute certain pieces of code based on specific conditions. We learn about the **if statement**, which checks if a condition is true and executes a block of code if it is. We also learn about the else clause, which lets us specify a block of code to be executed if the condition in the if statement is false. Lastly, we cover the **elif** clause (short for \"else if\"), which allows us to check multiple conditions and execute a block of code as soon as one of the conditions evaluates to true."
      ]
    },
    {
      "cell_type": "code",
      "execution_count": 59,
      "metadata": {
        "id": "4x1EaR-KDpii",
        "colab": {
          "base_uri": "https://localhost:8080/"
        },
        "outputId": "4999cea6-0936-4b38-c76f-bfeb0fcd06d0"
      },
      "outputs": [
        {
          "output_type": "stream",
          "name": "stdout",
          "text": [
            "x is positive\n",
            "y is negative\n",
            "x is odd\n",
            "The color is neither blue nor green\n"
          ]
        }
      ],
      "source": [
        "# if statement\n",
        "x = 7; y = -7\n",
        "if x > 0:\n",
        "  print(\"x is positive\")\n",
        "  if y < 0:\n",
        "    print(\"y is negative\")\n",
        "\n",
        "# if-else statement\n",
        "if x % 2 == 0:\n",
        "  print(\"x is even\")\n",
        "else:\n",
        "  print(\"x is odd\")\n",
        "\n",
        "# if-elif-else statement\n",
        "color = \"red\"\n",
        "if color == \"blue\":\n",
        "  print(\"The color is blue\")\n",
        "elif color == \"green\":\n",
        "  print(\"The color is green\")\n",
        "else:\n",
        "  print(\"The color is neither blue nor green\")\n"
      ]
    },
    {
      "cell_type": "markdown",
      "metadata": {
        "id": "KsEla1WgDpii"
      },
      "source": [
        "## Loops\n",
        "\n",
        "Next, we learn about loops in Python, which allow us to execute a block of code multiple times. We cover the for loop, which iterates over a sequence (like a list or a string) or other iterable objects. We also learn about the `range()` function, which generates a sequence of numbers that we can iterate over. Lastly, we cover the while loop, which continues to execute a block of code as long as a certain condition remains true."
      ]
    },
    {
      "cell_type": "markdown",
      "metadata": {
        "id": "l-eF5IY0Dpii"
      },
      "source": [
        "### For Loops\n",
        "\n",
        "In this part, we learn how to use the for loop to iterate over different types of sequences, including lists and strings. The for loop executes a block of code for each item in the sequence, making it extremely useful for tasks that involve processing collections of items, such as summing a list of numbers or processing each character in a text string.\n",
        "\n",
        "We also introduce the concept of nested for loops, which involves placing one loop inside another, allowing for more complex iteration patterns."
      ]
    },
    {
      "cell_type": "code",
      "execution_count": 76,
      "metadata": {
        "id": "ZnqUiFgyDpii",
        "colab": {
          "base_uri": "https://localhost:8080/"
        },
        "outputId": "2e5b8f54-4497-4735-b2d1-a3fd15729aca"
      },
      "outputs": [
        {
          "output_type": "stream",
          "name": "stdout",
          "text": [
            "apple\n",
            "banana\n",
            "cherry\n",
            "H\n",
            "e\n",
            "e\n",
            "0\n",
            "1\n",
            "2\n",
            "3\n",
            "4\n",
            "0 0 0.0 0.0\n",
            "0 1 0.0 0.1\n",
            "0 2 0.0 0.2\n",
            "1 0 0.1 0.0\n",
            "1 1 0.1 0.1\n",
            "1 2 0.1 0.2\n",
            "2 0 0.2 0.0\n",
            "2 1 0.2 0.1\n",
            "2 2 0.2 0.2\n"
          ]
        }
      ],
      "source": [
        "# Iterating over a list\n",
        "fruits = [\"apple\", \"banana\", \"cherry\"]\n",
        "for fruit in fruits:\n",
        "  print(fruit)\n",
        "\n",
        "# Iterating over a string\n",
        "for char in \"Hee\": print(char)\n",
        "#for i in \"Hee\": print(i)\n",
        "\n",
        "# Using the range function\n",
        "for i in range(5): print(i)\n",
        "\n",
        "# Using nested for loops\n",
        "for i in range(3):\n",
        "  for j in range(3):\n",
        "    print(i,j, i/10, j/10)\n"
      ]
    },
    {
      "cell_type": "markdown",
      "metadata": {
        "id": "oI4IiYoUDpij"
      },
      "source": [
        "### While Loops"
      ]
    },
    {
      "cell_type": "markdown",
      "metadata": {
        "id": "z-ttcaSPDpij"
      },
      "source": [
        "Next, we cover the while loop, which repeatedly executes a block of code as long as a given condition is true. This is useful for tasks where you don't know in advance how many times the loop should run (for example, when you're waiting for a certain condition to be met).\n",
        "\n",
        "We also introduce the break and continue statements, which provide more control over the loop execution. The break statement allows us to exit the loop prematurely when a certain condition is met, while the continue statement allows us to skip the rest of the current loop iteration and immediately proceed to the next one."
      ]
    },
    {
      "cell_type": "code",
      "execution_count": 83,
      "metadata": {
        "id": "hxcgRhQMDpij",
        "colab": {
          "base_uri": "https://localhost:8080/"
        },
        "outputId": "d1f9add6-3988-48e2-9d01-033483098805"
      },
      "outputs": [
        {
          "output_type": "stream",
          "name": "stdout",
          "text": [
            "0\n",
            "1\n",
            "2\n",
            "3\n",
            "4\n",
            "0\n",
            "1\n",
            "2\n",
            "\n",
            "1\n",
            "2\n",
            "4\n",
            "5\n"
          ]
        }
      ],
      "source": [
        "# Basic while loop\n",
        "counter = 0\n",
        "while counter < 5:\n",
        "  print(counter)\n",
        "  counter += 1    # increment counter at end; counter = counter + 1;\n",
        "\n",
        "# While loop with break statement\n",
        "counter = 0\n",
        "while counter < 5:\n",
        "  if counter == 3:    # last value of counter to be printed will be 2\n",
        "    break\n",
        "  print(counter)\n",
        "  counter +=1         # put counter at end; values 0 through 4 used in loop\n",
        "\n",
        "# While loop with continue statement\n",
        "print()\n",
        "counter = 0\n",
        "while counter < 5:\n",
        "  counter +=1         # put counter at start; values 1 through 5 used in loop\n",
        "  if counter == 3:    # last value of counter to be printed will be 2\n",
        "    continue          # skip back to top of while loop and continue\n",
        "  print(counter)\n"
      ]
    },
    {
      "cell_type": "markdown",
      "metadata": {
        "id": "brSNMi-1Dpik"
      },
      "source": [
        "# Section 4: Functions"
      ]
    },
    {
      "cell_type": "markdown",
      "metadata": {
        "id": "thfEc4YxDpik"
      },
      "source": [
        "Define a Function:\n",
        "\n",
        "In this part, we learn how to define our own functions using the def keyword. A function is a reusable block of code that performs a specific task. Once a function is defined, we can call it by its name, followed by parentheses. This allows us to execute the code within the function"
      ]
    },
    {
      "cell_type": "code",
      "execution_count": 95,
      "metadata": {
        "id": "yS9YKUYRDpik",
        "colab": {
          "base_uri": "https://localhost:8080/"
        },
        "outputId": "6f2bff6c-6beb-42db-b5ac-0bd463671bfc"
      },
      "outputs": [
        {
          "output_type": "stream",
          "name": "stdout",
          "text": [
            "Hello, Alice?\n",
            "Hello, anyone?\n",
            "Hello, ?\n"
          ]
        }
      ],
      "source": [
        "# Defining a function\n",
        "def greet(name):\n",
        "  print(f\"Hello, {name}?\")\n",
        "\n",
        "# Calling a function\n",
        "greet(\"Alice\")\n",
        "greet(\"anyone\")\n",
        "greet(\"\")"
      ]
    },
    {
      "cell_type": "markdown",
      "metadata": {
        "id": "_X3tzZb_Dpik"
      },
      "source": [
        "Function with parameters:\n",
        "\n",
        "Next, we learn how to define functions with parameters. Parameters are variables that are included in the function definition and that accept values when the function is called. The values that we provide to the function at the call are known as arguments."
      ]
    },
    {
      "cell_type": "code",
      "execution_count": null,
      "metadata": {
        "id": "I62kLorwDpik"
      },
      "outputs": [],
      "source": [
        "# Defining a function with a parameter\n",
        "\n",
        "# Calling a function with an argument\n"
      ]
    },
    {
      "cell_type": "markdown",
      "metadata": {
        "id": "1WGa3EvaDpil"
      },
      "source": [
        "Function with return values:\n",
        "\n",
        "Here, we learn how to return a value from a function using the return keyword. The returned value can be stored in a variable or used directly in an expression. This allows us to produce output from our functions that can be used elsewhere in our code."
      ]
    },
    {
      "cell_type": "code",
      "execution_count": 93,
      "metadata": {
        "id": "edo4iVaGDpil",
        "colab": {
          "base_uri": "https://localhost:8080/"
        },
        "outputId": "140d5623-f7eb-4150-f97d-6f6d910ed1e6"
      },
      "outputs": [
        {
          "output_type": "stream",
          "name": "stdout",
          "text": [
            "49\n"
          ]
        }
      ],
      "source": [
        "# Defining a function with a return value\n",
        "def square(num):\n",
        "  return num ** 2\n",
        "\n",
        "# Calling a function and storing its return value\n",
        "result = square(7)\n",
        "print(result)"
      ]
    },
    {
      "cell_type": "markdown",
      "metadata": {
        "id": "lt7G8ro8Dpil"
      },
      "source": [
        "Default and Keyword Arguments:\n",
        "\n",
        "Lastly, we cover default arguments, which are parameters that have a default value provided in the function definition. This value is used if no argument is provided for that parameter when the function is called. We also learn about keyword arguments, which are arguments provided at the function call, specified by the parameter name. This allows us to call a function with arguments in any order."
      ]
    },
    {
      "cell_type": "code",
      "execution_count": 105,
      "metadata": {
        "id": "XrngAYhgDpim",
        "colab": {
          "base_uri": "https://localhost:8080/"
        },
        "outputId": "cbf5ce76-3115-4a01-805e-6b5b5f3729c2"
      },
      "outputs": [
        {
          "output_type": "stream",
          "name": "stdout",
          "text": [
            "Hello, Alice!\n",
            "Hello, Guest!\n",
            "I have a dog named Harry.\n",
            "I have a dog named Harry.\n",
            "I have a cockapoo named Luna.\n"
          ]
        }
      ],
      "source": [
        "# Defining a function with a default argument\n",
        "def greet(name=\"Guest\"):\n",
        "  print(f\"Hello, {name}!\")\n",
        "\n",
        "# Calling a function without providing an argument\n",
        "greet(\"Alice\")\n",
        "greet()\n",
        "\n",
        "# Defining a function with keyword arguments\n",
        "def describe_pet(animal_type=\"dog\", pet_name=\"Harry\"):\n",
        "  print(f\"I have a {animal_type} named {pet_name}.\")\n",
        "\n",
        "# Calling a function with keyword arguments\n",
        "describe_pet(animal_type=\"dog\", pet_name=\"Harry\")\n",
        "describe_pet()\n",
        "describe_pet(\"cockapoo\", \"Luna\")"
      ]
    },
    {
      "cell_type": "markdown",
      "metadata": {
        "id": "StUXI99CDpim"
      },
      "source": [
        "Add-on: Build-in Functions"
      ]
    },
    {
      "cell_type": "code",
      "execution_count": 106,
      "metadata": {
        "id": "MLIVKutfDpim",
        "colab": {
          "base_uri": "https://localhost:8080/"
        },
        "outputId": "26cd0c12-780e-4350-b28e-4364716a5f66"
      },
      "outputs": [
        {
          "output_type": "stream",
          "name": "stdout",
          "text": [
            "6\n",
            "123\n"
          ]
        }
      ],
      "source": [
        "# Basic built-in functions\n",
        "print(len(\"Pythin\"))\n",
        "print(int(123))\n",
        "#print(int(\"Python\"))"
      ]
    },
    {
      "cell_type": "markdown",
      "metadata": {
        "id": "Xgj5dP5JDpim"
      },
      "source": [
        "# Section 4: Python Data Structures"
      ]
    },
    {
      "cell_type": "markdown",
      "metadata": {
        "id": "8UhTNgjCDpim"
      },
      "source": [
        "## Lists\n",
        "\n",
        "Lists are ordered collections of items that are mutable, meaning we can add, remove, or change items after the list is created. In this part, we learn how to create a list, access its elements using indices, modify its elements, and add or remove elements using the `append()` and `remove()` methods, respectively."
      ]
    },
    {
      "cell_type": "code",
      "execution_count": 160,
      "metadata": {
        "id": "JQ9eYCqyDpin",
        "colab": {
          "base_uri": "https://localhost:8080/"
        },
        "outputId": "4b533679-6270-4bcb-ed14-f6d1767ae59a"
      },
      "outputs": [
        {
          "output_type": "stream",
          "name": "stdout",
          "text": [
            "['apple', 'banana', 'cherry'] <class 'list'>\n",
            "apple\n",
            "cherry\n",
            "['apple', 'blueberry', 'cherry']\n",
            "['apple', 'blueberry', 'cherry', 'dragonfruit']\n",
            "['blueberry', 'cherry', 'dragonfruit']\n"
          ]
        }
      ],
      "source": [
        "# Creating a list\n",
        "fruits = [\"apple\", \"banana\", \"cherry\"]; print(fruits, type(fruits))\n",
        "\n",
        "# Accessing elements\n",
        "print(fruits[0])  # print first element\n",
        "print(fruits[-1]) # print last element\n",
        "\n",
        "# Modifying elements\n",
        "fruits[1] = \"blueberry\" ; print(fruits)\n",
        "\n",
        "# Adding elements\n",
        "fruits.append(\"dragonfruit\"); print(fruits)\n",
        "\n",
        "# Removing elements\n",
        "fruits.remove(\"apple\"); print(fruits)"
      ]
    },
    {
      "cell_type": "code",
      "execution_count": 127,
      "metadata": {
        "id": "HhgW1yaBDpin",
        "colab": {
          "base_uri": "https://localhost:8080/"
        },
        "outputId": "8498b202-c429-482c-b0db-c430f815bd14"
      },
      "outputs": [
        {
          "output_type": "stream",
          "name": "stdout",
          "text": [
            "[1, 2, 3, 4, 5]\n",
            "[1, 2, 3, 4, 5, 6]\n",
            "[1, 2, 3, 4, 5, 6, [7, 8, 9]]\n",
            "[2, 3, 4, 5, 6, [7, 8, 9]]\n"
          ]
        }
      ],
      "source": [
        "# examples of list comprehension\n",
        "my_list = [1, 2, 3, 4, 5]; print(my_list)\n",
        "my_list.append(6); print(my_list)\n",
        "my_list.append([7, 8, 9]); print(my_list)\n",
        "my_list.remove(1); print(my_list)\n",
        "#squares = [x**2 for x in my_list]; print(squares) #need to debug"
      ]
    },
    {
      "cell_type": "markdown",
      "metadata": {
        "id": "IGMiUAmaDpin"
      },
      "source": [
        "## Tuples\n",
        "\n",
        "Tuples are similar to lists, but they are immutable, meaning we can't change their size or the values of their items once they're created. This makes tuples useful for grouping related data and ensuring it doesn't get changed. We learn how to create a tuple and access its elements."
      ]
    },
    {
      "cell_type": "code",
      "execution_count": 159,
      "metadata": {
        "id": "Jyok_p44Dpin",
        "colab": {
          "base_uri": "https://localhost:8080/"
        },
        "outputId": "3f31175b-dcf0-450c-af51-a205e6762716"
      },
      "outputs": [
        {
          "output_type": "stream",
          "name": "stdout",
          "text": [
            "('apple', 'banana', 'cherry') <class 'tuple'>\n",
            "apple\n",
            "cherry\n"
          ]
        }
      ],
      "source": [
        "# Creating a tuple; Notice round brackets ()\n",
        "fruits = (\"apple\", \"banana\", \"cherry\"); print(fruits, type(fruits))\n",
        "\n",
        "# Accessing elements\n",
        "print(fruits[0])\n",
        "print(fruits[-1])\n",
        "\n",
        "# Tuples are immutable\n",
        "# fruits[1] = \"blueberry\"  # This will raise an error"
      ]
    },
    {
      "cell_type": "markdown",
      "metadata": {
        "id": "CC1s76zrDpio"
      },
      "source": [
        "## Dictionary\n",
        "\n",
        "Dictionaries are unordered collections of key-value pairs, where each key is unique. This allows us to access, modify, add, or remove items using their keys, which can be any immutable data type. We learn how to create a dictionary, access its elements using keys, modify its elements, and add or remove elements."
      ]
    },
    {
      "cell_type": "code",
      "execution_count": 156,
      "metadata": {
        "id": "HOJNhSxqDpio",
        "colab": {
          "base_uri": "https://localhost:8080/"
        },
        "outputId": "ead01a1e-e225-492f-87f0-d86dcf16e095"
      },
      "outputs": [
        {
          "output_type": "stream",
          "name": "stdout",
          "text": [
            "John\n",
            "{'name': 'John', 'age': 22, 'courses': ['Math', 'CompSci']}\n",
            "{'name': 'John', 'age': 22, 'courses': ['Math', 'CompSci'], 'grade': [90, 95]}\n",
            "{'name': 'John', 'courses': ['Math', 'CompSci'], 'grade': [90, 95]}\n",
            "<class 'dict'>\n"
          ]
        }
      ],
      "source": [
        "# Creating a dictionary ; Notice the curly brackets {}\n",
        "student = {\"name\":\"John\", \"age\":21, \"courses\":[\"Math\", \"CompSci\"]}\n",
        "\n",
        "# Accessing elements\n",
        "print(student[\"name\"])\n",
        "\n",
        "# Modifying elements\n",
        "student[\"age\"] = 22\n",
        "print(student)\n",
        "\n",
        "# Adding elements\n",
        "student[\"grade\"]=[90,95]; print(student)\n",
        "\n",
        "# Removing elements\n",
        "del student[\"age\"]\n",
        "print(student)\n",
        "print(type(student))"
      ]
    },
    {
      "cell_type": "code",
      "execution_count": 138,
      "metadata": {
        "id": "xLHX8AxZDpio",
        "colab": {
          "base_uri": "https://localhost:8080/"
        },
        "outputId": "ae99b0b6-caf2-4736-8e6a-59105b622e6d"
      },
      "outputs": [
        {
          "output_type": "stream",
          "name": "stdout",
          "text": [
            "dict_keys(['name', 'courses', 'grade'])\n",
            "dict_values(['John', ['Math', 'CompSci'], [90, 95]])\n",
            "dict_items([('name', 'John'), ('courses', ['Math', 'CompSci']), ('grade', [90, 95])])\n"
          ]
        }
      ],
      "source": [
        "# Dictionaries\n",
        "print(student.keys())\n",
        "print(student.values())\n",
        "print(student.items())\n"
      ]
    },
    {
      "cell_type": "markdown",
      "metadata": {
        "id": "WGs6RkJODpip"
      },
      "source": [
        "# Section 5: Introduction to Libraries"
      ]
    },
    {
      "cell_type": "markdown",
      "metadata": {
        "id": "zEb0Gp5lDpip"
      },
      "source": [
        "Importing Libraries:\n",
        "\n",
        "In Python, libraries are collections of functions and methods that allow you to carry out many actions without writing your code. In this part, we learned how to import the `math` library and use its `sqrt()` function to calculate the square root of a number."
      ]
    },
    {
      "cell_type": "code",
      "execution_count": 139,
      "metadata": {
        "id": "Y26OxMoHDpiq",
        "colab": {
          "base_uri": "https://localhost:8080/"
        },
        "outputId": "75455402-cf64-496d-e05a-05f4d8eaa18e"
      },
      "outputs": [
        {
          "output_type": "stream",
          "name": "stdout",
          "text": [
            "4.0\n"
          ]
        }
      ],
      "source": [
        "# Importing a library\n",
        "import math\n",
        "\n",
        "# Using a function from the library\n",
        "print(math.sqrt(16))"
      ]
    },
    {
      "cell_type": "markdown",
      "metadata": {
        "id": "snQfj-PVDpiq"
      },
      "source": [
        "Importing with Aliases:\n",
        "\n",
        "Sometimes, for convenience and ease of use, libraries are imported using aliases. Here, we imported the `random` library using `rnd` as an alias, and then used the `randint()` function to generate a random integer."
      ]
    },
    {
      "cell_type": "code",
      "execution_count": 150,
      "metadata": {
        "id": "BYSKme5qDpiq",
        "colab": {
          "base_uri": "https://localhost:8080/"
        },
        "outputId": "2f903fff-dce9-4dab-ecef-8893677b4713"
      },
      "outputs": [
        {
          "output_type": "stream",
          "name": "stdout",
          "text": [
            "2\n"
          ]
        }
      ],
      "source": [
        "# Importing a library with an alias\n",
        "import random as rnd    #create a nickname\n",
        "\n",
        "# Using a function from the library\n",
        "print(rnd.randint(1, 10))\n"
      ]
    },
    {
      "cell_type": "markdown",
      "metadata": {
        "id": "5GPSiEiUDpiq"
      },
      "source": [
        "Importing Specific Functions:\n",
        "\n",
        "When we only need a specific function from a library, we can import that alone. In this example, we imported the `date` function from the `datetime` library to print today's date."
      ]
    },
    {
      "cell_type": "code",
      "execution_count": 151,
      "metadata": {
        "id": "ULjjE3gTDpir",
        "colab": {
          "base_uri": "https://localhost:8080/"
        },
        "outputId": "1ff37489-86b5-40ca-e8dc-2a5a3a81b98f"
      },
      "outputs": [
        {
          "output_type": "stream",
          "name": "stdout",
          "text": [
            "2024-04-16\n"
          ]
        }
      ],
      "source": [
        "# Importing a specific function\n",
        "from datetime import date\n",
        "\n",
        "# Using the function\n",
        "print(date.today())\n"
      ]
    },
    {
      "cell_type": "markdown",
      "metadata": {
        "id": "whuU3hOtDpir"
      },
      "source": [
        "Exploring Library Documentation:\n",
        "\n",
        "Understanding how to use a function is crucial when programming. The `help()` function provides a way to access the documentation of a function, which can provide useful information on how to use it. Here, we used `help()` to access the documentation for the `sqrt` function from the `math` library."
      ]
    },
    {
      "cell_type": "code",
      "execution_count": 153,
      "metadata": {
        "id": "9z_3W8mWDpir",
        "colab": {
          "base_uri": "https://localhost:8080/"
        },
        "outputId": "f59d1f81-6bf0-417f-dfd7-6d9531d5a8dc"
      },
      "outputs": [
        {
          "output_type": "stream",
          "name": "stdout",
          "text": [
            "Help on built-in function sqrt in module math:\n",
            "\n",
            "sqrt(x, /)\n",
            "    Return the square root of x.\n",
            "\n"
          ]
        }
      ],
      "source": [
        "# Getting help on a function\n",
        "help(math.sqrt)"
      ]
    },
    {
      "cell_type": "markdown",
      "metadata": {
        "id": "2_gy99YDDpir"
      },
      "source": [
        "# Section 6: Introduction to NumPy and pandas"
      ]
    },
    {
      "cell_type": "markdown",
      "metadata": {
        "id": "CC0P1tIsDpis"
      },
      "source": [
        "## Numpy\n",
        "\n",
        "NumPy (Numerical Python) is a powerful library for performing mathematical and logical operations on arrays. In this part, we learn how to create a NumPy array and perform operations on it. We also see how NumPy enables element-wise computations, which are highly efficient and useful for scientific computing."
      ]
    },
    {
      "cell_type": "code",
      "execution_count": 155,
      "metadata": {
        "id": "6pXtCOCIDpis",
        "colab": {
          "base_uri": "https://localhost:8080/"
        },
        "outputId": "8a6d32bc-2187-4d82-a091-7955c1ec0594"
      },
      "outputs": [
        {
          "output_type": "stream",
          "name": "stdout",
          "text": [
            "[1 2 3 4 5] <class 'numpy.ndarray'>\n"
          ]
        }
      ],
      "source": [
        "# Importing numpy\n",
        "import numpy as np\n",
        "\n",
        "# Creating a numpy array\n",
        "arr = np.array([1, 2, 3, 4, 5]) ; print(arr, type(arr))"
      ]
    },
    {
      "cell_type": "code",
      "execution_count": 158,
      "metadata": {
        "id": "GnLfe0ntDpis",
        "colab": {
          "base_uri": "https://localhost:8080/"
        },
        "outputId": "8c190d57-9c2b-4e73-d59f-a99a165af345"
      },
      "outputs": [
        {
          "output_type": "stream",
          "name": "stdout",
          "text": [
            "[ 2  4  6  8 10]\n",
            "3.0 <class 'numpy.float64'>\n"
          ]
        }
      ],
      "source": [
        "# Performing operations on numpy arrays\n",
        "print(arr * 2)\n",
        "print(np.mean(arr), type(np.mean(arr)))"
      ]
    },
    {
      "cell_type": "markdown",
      "metadata": {
        "id": "4R1aWF5ODpit"
      },
      "source": [
        "## Pandas\n",
        "\n",
        "pandas is a high-level data manipulation tool that's built on the NumPy package. It's key data structure is called the DataFrame, which allows you to manipulate and analyze data in a tabular form. In this section, we learn how to create a DataFrame, access its data, and apply descriptive statistics methods. pandas is essential for data manipulation and analysis in Python, and is commonly used in conjunction with other data science libraries."
      ]
    },
    {
      "cell_type": "code",
      "execution_count": 205,
      "metadata": {
        "id": "oQzUGi-tDpit",
        "colab": {
          "base_uri": "https://localhost:8080/"
        },
        "outputId": "05725888-a938-4e1c-9a97-b88022b8679a"
      },
      "outputs": [
        {
          "output_type": "stream",
          "name": "stdout",
          "text": [
            "    name  Age\n",
            "0   John   23\n",
            "1   Anna   21\n",
            "2  Peter   29\n",
            "3  Linda   33\n",
            "4   Anna   40\n"
          ]
        }
      ],
      "source": [
        "# Importing pandas\n",
        "import pandas as pd\n",
        "\n",
        "# Creating a pandas DataFrame\n",
        "data = {\n",
        "    \"name\":[\"John\", \"Anna\", \"Peter\", \"Linda\", \"Anna\"],\n",
        "    \"Age\":[23, 21, 29, 33, 40]\n",
        "}\n",
        "\n",
        "df = pd.DataFrame(data)\n",
        "print(df)"
      ]
    },
    {
      "cell_type": "code",
      "execution_count": 206,
      "metadata": {
        "id": "dDHzRQ3qDpit",
        "colab": {
          "base_uri": "https://localhost:8080/"
        },
        "outputId": "83361551-04c4-4da1-a968-f185091b4164"
      },
      "outputs": [
        {
          "output_type": "stream",
          "name": "stdout",
          "text": [
            "0     John\n",
            "1     Anna\n",
            "2    Peter\n",
            "3    Linda\n",
            "4     Anna\n",
            "Name: name, dtype: object\n",
            "name    John\n",
            "Age       23\n",
            "Name: 0, dtype: object\n"
          ]
        }
      ],
      "source": [
        "# Accessing data in DataFrame\n",
        "print(df[\"name\"])\n",
        "print(df.loc[0])\n"
      ]
    },
    {
      "cell_type": "code",
      "source": [
        "# Descriptive statistics\n",
        "df.describe(include=\"all\")"
      ],
      "metadata": {
        "id": "QmnRKgmIIdC5",
        "colab": {
          "base_uri": "https://localhost:8080/",
          "height": 394
        },
        "outputId": "380fd8fb-ceef-4a1c-a5de-9c7b6874e803"
      },
      "execution_count": 207,
      "outputs": [
        {
          "output_type": "execute_result",
          "data": {
            "text/plain": [
              "        name        Age\n",
              "count      5   5.000000\n",
              "unique     4        NaN\n",
              "top     Anna        NaN\n",
              "freq       2        NaN\n",
              "mean     NaN  29.200000\n",
              "std      NaN   7.694154\n",
              "min      NaN  21.000000\n",
              "25%      NaN  23.000000\n",
              "50%      NaN  29.000000\n",
              "75%      NaN  33.000000\n",
              "max      NaN  40.000000"
            ],
            "text/html": [
              "\n",
              "  <div id=\"df-3b69fe7a-108d-4dae-8909-6625dd1411cd\" class=\"colab-df-container\">\n",
              "    <div>\n",
              "<style scoped>\n",
              "    .dataframe tbody tr th:only-of-type {\n",
              "        vertical-align: middle;\n",
              "    }\n",
              "\n",
              "    .dataframe tbody tr th {\n",
              "        vertical-align: top;\n",
              "    }\n",
              "\n",
              "    .dataframe thead th {\n",
              "        text-align: right;\n",
              "    }\n",
              "</style>\n",
              "<table border=\"1\" class=\"dataframe\">\n",
              "  <thead>\n",
              "    <tr style=\"text-align: right;\">\n",
              "      <th></th>\n",
              "      <th>name</th>\n",
              "      <th>Age</th>\n",
              "    </tr>\n",
              "  </thead>\n",
              "  <tbody>\n",
              "    <tr>\n",
              "      <th>count</th>\n",
              "      <td>5</td>\n",
              "      <td>5.000000</td>\n",
              "    </tr>\n",
              "    <tr>\n",
              "      <th>unique</th>\n",
              "      <td>4</td>\n",
              "      <td>NaN</td>\n",
              "    </tr>\n",
              "    <tr>\n",
              "      <th>top</th>\n",
              "      <td>Anna</td>\n",
              "      <td>NaN</td>\n",
              "    </tr>\n",
              "    <tr>\n",
              "      <th>freq</th>\n",
              "      <td>2</td>\n",
              "      <td>NaN</td>\n",
              "    </tr>\n",
              "    <tr>\n",
              "      <th>mean</th>\n",
              "      <td>NaN</td>\n",
              "      <td>29.200000</td>\n",
              "    </tr>\n",
              "    <tr>\n",
              "      <th>std</th>\n",
              "      <td>NaN</td>\n",
              "      <td>7.694154</td>\n",
              "    </tr>\n",
              "    <tr>\n",
              "      <th>min</th>\n",
              "      <td>NaN</td>\n",
              "      <td>21.000000</td>\n",
              "    </tr>\n",
              "    <tr>\n",
              "      <th>25%</th>\n",
              "      <td>NaN</td>\n",
              "      <td>23.000000</td>\n",
              "    </tr>\n",
              "    <tr>\n",
              "      <th>50%</th>\n",
              "      <td>NaN</td>\n",
              "      <td>29.000000</td>\n",
              "    </tr>\n",
              "    <tr>\n",
              "      <th>75%</th>\n",
              "      <td>NaN</td>\n",
              "      <td>33.000000</td>\n",
              "    </tr>\n",
              "    <tr>\n",
              "      <th>max</th>\n",
              "      <td>NaN</td>\n",
              "      <td>40.000000</td>\n",
              "    </tr>\n",
              "  </tbody>\n",
              "</table>\n",
              "</div>\n",
              "    <div class=\"colab-df-buttons\">\n",
              "\n",
              "  <div class=\"colab-df-container\">\n",
              "    <button class=\"colab-df-convert\" onclick=\"convertToInteractive('df-3b69fe7a-108d-4dae-8909-6625dd1411cd')\"\n",
              "            title=\"Convert this dataframe to an interactive table.\"\n",
              "            style=\"display:none;\">\n",
              "\n",
              "  <svg xmlns=\"http://www.w3.org/2000/svg\" height=\"24px\" viewBox=\"0 -960 960 960\">\n",
              "    <path d=\"M120-120v-720h720v720H120Zm60-500h600v-160H180v160Zm220 220h160v-160H400v160Zm0 220h160v-160H400v160ZM180-400h160v-160H180v160Zm440 0h160v-160H620v160ZM180-180h160v-160H180v160Zm440 0h160v-160H620v160Z\"/>\n",
              "  </svg>\n",
              "    </button>\n",
              "\n",
              "  <style>\n",
              "    .colab-df-container {\n",
              "      display:flex;\n",
              "      gap: 12px;\n",
              "    }\n",
              "\n",
              "    .colab-df-convert {\n",
              "      background-color: #E8F0FE;\n",
              "      border: none;\n",
              "      border-radius: 50%;\n",
              "      cursor: pointer;\n",
              "      display: none;\n",
              "      fill: #1967D2;\n",
              "      height: 32px;\n",
              "      padding: 0 0 0 0;\n",
              "      width: 32px;\n",
              "    }\n",
              "\n",
              "    .colab-df-convert:hover {\n",
              "      background-color: #E2EBFA;\n",
              "      box-shadow: 0px 1px 2px rgba(60, 64, 67, 0.3), 0px 1px 3px 1px rgba(60, 64, 67, 0.15);\n",
              "      fill: #174EA6;\n",
              "    }\n",
              "\n",
              "    .colab-df-buttons div {\n",
              "      margin-bottom: 4px;\n",
              "    }\n",
              "\n",
              "    [theme=dark] .colab-df-convert {\n",
              "      background-color: #3B4455;\n",
              "      fill: #D2E3FC;\n",
              "    }\n",
              "\n",
              "    [theme=dark] .colab-df-convert:hover {\n",
              "      background-color: #434B5C;\n",
              "      box-shadow: 0px 1px 3px 1px rgba(0, 0, 0, 0.15);\n",
              "      filter: drop-shadow(0px 1px 2px rgba(0, 0, 0, 0.3));\n",
              "      fill: #FFFFFF;\n",
              "    }\n",
              "  </style>\n",
              "\n",
              "    <script>\n",
              "      const buttonEl =\n",
              "        document.querySelector('#df-3b69fe7a-108d-4dae-8909-6625dd1411cd button.colab-df-convert');\n",
              "      buttonEl.style.display =\n",
              "        google.colab.kernel.accessAllowed ? 'block' : 'none';\n",
              "\n",
              "      async function convertToInteractive(key) {\n",
              "        const element = document.querySelector('#df-3b69fe7a-108d-4dae-8909-6625dd1411cd');\n",
              "        const dataTable =\n",
              "          await google.colab.kernel.invokeFunction('convertToInteractive',\n",
              "                                                    [key], {});\n",
              "        if (!dataTable) return;\n",
              "\n",
              "        const docLinkHtml = 'Like what you see? Visit the ' +\n",
              "          '<a target=\"_blank\" href=https://colab.research.google.com/notebooks/data_table.ipynb>data table notebook</a>'\n",
              "          + ' to learn more about interactive tables.';\n",
              "        element.innerHTML = '';\n",
              "        dataTable['output_type'] = 'display_data';\n",
              "        await google.colab.output.renderOutput(dataTable, element);\n",
              "        const docLink = document.createElement('div');\n",
              "        docLink.innerHTML = docLinkHtml;\n",
              "        element.appendChild(docLink);\n",
              "      }\n",
              "    </script>\n",
              "  </div>\n",
              "\n",
              "\n",
              "<div id=\"df-c1f70cd4-3ff2-49e8-a4cf-0265fd44c305\">\n",
              "  <button class=\"colab-df-quickchart\" onclick=\"quickchart('df-c1f70cd4-3ff2-49e8-a4cf-0265fd44c305')\"\n",
              "            title=\"Suggest charts\"\n",
              "            style=\"display:none;\">\n",
              "\n",
              "<svg xmlns=\"http://www.w3.org/2000/svg\" height=\"24px\"viewBox=\"0 0 24 24\"\n",
              "     width=\"24px\">\n",
              "    <g>\n",
              "        <path d=\"M19 3H5c-1.1 0-2 .9-2 2v14c0 1.1.9 2 2 2h14c1.1 0 2-.9 2-2V5c0-1.1-.9-2-2-2zM9 17H7v-7h2v7zm4 0h-2V7h2v10zm4 0h-2v-4h2v4z\"/>\n",
              "    </g>\n",
              "</svg>\n",
              "  </button>\n",
              "\n",
              "<style>\n",
              "  .colab-df-quickchart {\n",
              "      --bg-color: #E8F0FE;\n",
              "      --fill-color: #1967D2;\n",
              "      --hover-bg-color: #E2EBFA;\n",
              "      --hover-fill-color: #174EA6;\n",
              "      --disabled-fill-color: #AAA;\n",
              "      --disabled-bg-color: #DDD;\n",
              "  }\n",
              "\n",
              "  [theme=dark] .colab-df-quickchart {\n",
              "      --bg-color: #3B4455;\n",
              "      --fill-color: #D2E3FC;\n",
              "      --hover-bg-color: #434B5C;\n",
              "      --hover-fill-color: #FFFFFF;\n",
              "      --disabled-bg-color: #3B4455;\n",
              "      --disabled-fill-color: #666;\n",
              "  }\n",
              "\n",
              "  .colab-df-quickchart {\n",
              "    background-color: var(--bg-color);\n",
              "    border: none;\n",
              "    border-radius: 50%;\n",
              "    cursor: pointer;\n",
              "    display: none;\n",
              "    fill: var(--fill-color);\n",
              "    height: 32px;\n",
              "    padding: 0;\n",
              "    width: 32px;\n",
              "  }\n",
              "\n",
              "  .colab-df-quickchart:hover {\n",
              "    background-color: var(--hover-bg-color);\n",
              "    box-shadow: 0 1px 2px rgba(60, 64, 67, 0.3), 0 1px 3px 1px rgba(60, 64, 67, 0.15);\n",
              "    fill: var(--button-hover-fill-color);\n",
              "  }\n",
              "\n",
              "  .colab-df-quickchart-complete:disabled,\n",
              "  .colab-df-quickchart-complete:disabled:hover {\n",
              "    background-color: var(--disabled-bg-color);\n",
              "    fill: var(--disabled-fill-color);\n",
              "    box-shadow: none;\n",
              "  }\n",
              "\n",
              "  .colab-df-spinner {\n",
              "    border: 2px solid var(--fill-color);\n",
              "    border-color: transparent;\n",
              "    border-bottom-color: var(--fill-color);\n",
              "    animation:\n",
              "      spin 1s steps(1) infinite;\n",
              "  }\n",
              "\n",
              "  @keyframes spin {\n",
              "    0% {\n",
              "      border-color: transparent;\n",
              "      border-bottom-color: var(--fill-color);\n",
              "      border-left-color: var(--fill-color);\n",
              "    }\n",
              "    20% {\n",
              "      border-color: transparent;\n",
              "      border-left-color: var(--fill-color);\n",
              "      border-top-color: var(--fill-color);\n",
              "    }\n",
              "    30% {\n",
              "      border-color: transparent;\n",
              "      border-left-color: var(--fill-color);\n",
              "      border-top-color: var(--fill-color);\n",
              "      border-right-color: var(--fill-color);\n",
              "    }\n",
              "    40% {\n",
              "      border-color: transparent;\n",
              "      border-right-color: var(--fill-color);\n",
              "      border-top-color: var(--fill-color);\n",
              "    }\n",
              "    60% {\n",
              "      border-color: transparent;\n",
              "      border-right-color: var(--fill-color);\n",
              "    }\n",
              "    80% {\n",
              "      border-color: transparent;\n",
              "      border-right-color: var(--fill-color);\n",
              "      border-bottom-color: var(--fill-color);\n",
              "    }\n",
              "    90% {\n",
              "      border-color: transparent;\n",
              "      border-bottom-color: var(--fill-color);\n",
              "    }\n",
              "  }\n",
              "</style>\n",
              "\n",
              "  <script>\n",
              "    async function quickchart(key) {\n",
              "      const quickchartButtonEl =\n",
              "        document.querySelector('#' + key + ' button');\n",
              "      quickchartButtonEl.disabled = true;  // To prevent multiple clicks.\n",
              "      quickchartButtonEl.classList.add('colab-df-spinner');\n",
              "      try {\n",
              "        const charts = await google.colab.kernel.invokeFunction(\n",
              "            'suggestCharts', [key], {});\n",
              "      } catch (error) {\n",
              "        console.error('Error during call to suggestCharts:', error);\n",
              "      }\n",
              "      quickchartButtonEl.classList.remove('colab-df-spinner');\n",
              "      quickchartButtonEl.classList.add('colab-df-quickchart-complete');\n",
              "    }\n",
              "    (() => {\n",
              "      let quickchartButtonEl =\n",
              "        document.querySelector('#df-c1f70cd4-3ff2-49e8-a4cf-0265fd44c305 button');\n",
              "      quickchartButtonEl.style.display =\n",
              "        google.colab.kernel.accessAllowed ? 'block' : 'none';\n",
              "    })();\n",
              "  </script>\n",
              "</div>\n",
              "    </div>\n",
              "  </div>\n"
            ],
            "application/vnd.google.colaboratory.intrinsic+json": {
              "type": "dataframe",
              "summary": "{\n  \"name\": \"df\",\n  \"rows\": 11,\n  \"fields\": [\n    {\n      \"column\": \"name\",\n      \"properties\": {\n        \"dtype\": \"category\",\n        \"num_unique_values\": 4,\n        \"samples\": [\n          4,\n          \"2\",\n          \"5\"\n        ],\n        \"semantic_type\": \"\",\n        \"description\": \"\"\n      }\n    },\n    {\n      \"column\": \"Age\",\n      \"properties\": {\n        \"dtype\": \"number\",\n        \"std\": 12.093760960622172,\n        \"min\": 5.0,\n        \"max\": 40.0,\n        \"num_unique_values\": 8,\n        \"samples\": [\n          29.2,\n          29.0,\n          5.0\n        ],\n        \"semantic_type\": \"\",\n        \"description\": \"\"\n      }\n    }\n  ]\n}"
            }
          },
          "metadata": {},
          "execution_count": 207
        }
      ]
    },
    {
      "cell_type": "code",
      "execution_count": 208,
      "metadata": {
        "id": "RAD3XMPTDpit"
      },
      "outputs": [],
      "source": [
        "# Adding a new column to the DataFrame\n",
        "df[\"Score\"] = [85, 90, 88, 92, 100]"
      ]
    },
    {
      "cell_type": "code",
      "execution_count": 209,
      "metadata": {
        "id": "e4jKHWANDpiu"
      },
      "outputs": [],
      "source": [
        "# Saving DataFrame to a csv file\n",
        "df.to_csv(\"DataFrame_data.csv\", index=False)"
      ]
    },
    {
      "cell_type": "code",
      "execution_count": 210,
      "metadata": {
        "id": "84TFIimHDpiu",
        "colab": {
          "base_uri": "https://localhost:8080/"
        },
        "outputId": "4789470b-b106-4f2a-d053-a575aea3ce4f"
      },
      "outputs": [
        {
          "output_type": "stream",
          "name": "stdout",
          "text": [
            "    name  Age  Score\n",
            "0   John   23     85\n",
            "1   Anna   21     90\n",
            "2  Peter   29     88\n",
            "3  Linda   33     92\n",
            "4   Anna   40    100\n",
            "\n",
            "   Unnamed: 0   name  Age  Score\n",
            "0           0   John   23     85\n",
            "1           1   Anna   21     90\n",
            "2           2  Peter   29     88\n",
            "3           3  Linda   33     92\n",
            "4           4   Anna   40    100\n"
          ]
        }
      ],
      "source": [
        "# Reading a csv file to a DataFrame\n",
        "df_from_csv = pd.read_csv(\"DataFrame_data.csv\")\n",
        "print(df_from_csv)\n",
        "\n",
        "#compare:\n",
        "df.to_csv(\"DataFrame_data.csv\", index=True)\n",
        "df_from_csv = pd.read_csv(\"DataFrame_data.csv\")\n",
        "print(); print(df_from_csv)\n"
      ]
    },
    {
      "cell_type": "code",
      "execution_count": 211,
      "metadata": {
        "id": "SfuaMXD-Dpiu",
        "colab": {
          "base_uri": "https://localhost:8080/"
        },
        "outputId": "a5629ea5-98dd-4ab0-d8fc-3eee462442a9"
      },
      "outputs": [
        {
          "output_type": "stream",
          "name": "stdout",
          "text": [
            "    name  Age  Score\n",
            "2  Peter   29     88\n",
            "3  Linda   33     92\n",
            "4   Anna   40    100\n"
          ]
        }
      ],
      "source": [
        "# Accessing data using conditions\n",
        "print(df[df[\"Age\"]>25])\n"
      ]
    },
    {
      "cell_type": "code",
      "execution_count": 213,
      "metadata": {
        "id": "WlbEPp91Dpiu",
        "colab": {
          "base_uri": "https://localhost:8080/"
        },
        "outputId": "2f775526-f060-4d47-f054-72fe099374fc"
      },
      "outputs": [
        {
          "output_type": "stream",
          "name": "stdout",
          "text": [
            "    name  Age  Score\n",
            "0   John   21     85\n",
            "1   Anna   21     90\n",
            "2  Peter   24     88\n",
            "3  Linda   24     92\n",
            "4   Anna   50    100\n",
            "\n"
          ]
        },
        {
          "output_type": "execute_result",
          "data": {
            "text/plain": [
              "Age\n",
              "21     87.5\n",
              "24     90.0\n",
              "50    100.0\n",
              "Name: Score, dtype: float64"
            ]
          },
          "metadata": {},
          "execution_count": 213
        }
      ],
      "source": [
        "# Grouping data\n",
        "#df[\"Score\"] = [85, 90, 92, 92, 100]\n",
        "df[\"Age\"] = [21, 21, 24, 24, 50]  # create new ages with some duplicates to see effect of binning\n",
        "print(df); print()\n",
        "df.groupby(\"Age\")[\"Score\"].mean()"
      ]
    },
    {
      "cell_type": "code",
      "execution_count": 214,
      "metadata": {
        "id": "UyGhW5MIDpiv",
        "colab": {
          "base_uri": "https://localhost:8080/"
        },
        "outputId": "b2243faf-6323-4af1-8055-14b7675ac1e8"
      },
      "outputs": [
        {
          "output_type": "stream",
          "name": "stdout",
          "text": [
            "    name  Age  Score  NewAge\n",
            "0   John   21     85      22\n",
            "1   Anna   21     90      22\n",
            "2  Peter   24     88      25\n",
            "3  Linda   24     92      25\n",
            "4   Anna   50    100      51\n"
          ]
        }
      ],
      "source": [
        "# Applying functions\n",
        "df[\"NewAge\"] = df[\"Age\"].apply(lambda x:x+1)\n",
        "print(df)"
      ]
    },
    {
      "cell_type": "markdown",
      "metadata": {
        "id": "TYR6dlkyDpiv"
      },
      "source": [
        "In this section, we expand our knowledge of pandas DataFrames. First, we learn how to add a new column to the DataFrame. Then, we cover how to save the DataFrame as a `csv` file using the `to_csv` method and how to read the csv file back into a DataFrame using the `read_csv` function.\n",
        "\n",
        "We also delve into more complex operations on DataFrames, such as accessing data using conditions, grouping data by a certain column, and applying functions to columns. These operations are essential for data manipulation and analysis in pandas.\n",
        "\n",
        "Finally, we use the `apply()` method to apply a function to each element in a DataFrame column. This is a powerful tool that allows us to perform complex transformations on our data. In this example, we use a `lambda` function to add 1 to each age in the 'Age' column."
      ]
    },
    {
      "cell_type": "markdown",
      "metadata": {
        "id": "mG4cbVp6Dpiw"
      },
      "source": []
    }
  ],
  "metadata": {
    "language_info": {
      "name": "python"
    },
    "orig_nbformat": 4,
    "colab": {
      "provenance": [],
      "include_colab_link": true
    },
    "kernelspec": {
      "name": "python3",
      "display_name": "Python 3"
    }
  },
  "nbformat": 4,
  "nbformat_minor": 0
}